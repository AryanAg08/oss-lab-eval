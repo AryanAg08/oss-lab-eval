{
 "cells": [
  {
   "cell_type": "code",
   "execution_count": 22,
   "metadata": {},
   "outputs": [
    {
     "name": "stdout",
     "output_type": "stream",
     "text": [
      "Enter a string: DEvElOPMENt\n",
      "UPPERCASE:\n",
      "DNMPEO\n",
      "Lowercase:\n",
      "lvt\n"
     ]
    }
   ],
   "source": [
    "def uniqueChar(input_string):\n",
    "\n",
    "    uppercase = set()\n",
    "    lowercase = set()\n",
    "\n",
    "    for char in input_string:\n",
    "        if char.isupper():\n",
    "            uppercase.add(char)\n",
    "        elif char.islower():\n",
    "            lowercase.add(char)\n",
    "    \n",
    "    return uppercase, lowercase\n",
    "\n",
    "user_input = input(\"Enter a string: \")\n",
    "\n",
    "\n",
    "uppercase, lowercase = uniqueChar(user_input)\n",
    "\n",
    "print(\"UPPERCASE:\")\n",
    "print(\"\".join(uppercase))\n",
    "\n",
    "print(\"Lowercase:\")\n",
    "print(\"\".join(lowercase))\n"
   ]
  },
  {
   "cell_type": "code",
   "execution_count": 34,
   "metadata": {},
   "outputs": [
    {
     "name": "stdout",
     "output_type": "stream",
     "text": [
      "a = 11\n",
      "6 can\n"
     ]
    }
   ],
   "source": [
    "def count_letters (sen): \n",
    "    letters_count = {}\n",
    "    words = sen.split()\n",
    "    for word in words:\n",
    "        for letter in words: \n",
    "            if letter in letters_count:\n",
    "                letters_count[letter] += 1\n",
    "            else: \n",
    "                letters_count[letter] = 1\n",
    "    return letters_count\n",
    "\n",
    "def count_words (sen):\n",
    "    words_count = {}\n",
    "    words = sen.split()\n",
    "    \n",
    "    for word in words:\n",
    "        if word in words_count:\n",
    "            words_count[word] += 1\n",
    "        else:\n",
    "            words_count[word] = 1\n",
    "                \n",
    "    return words_count\n",
    "\n",
    "\n",
    "sentence = \"can you can a can as a canner can can a can\"\n",
    "letterCount = count_letters(sentence)\n",
    "wordsCount = count_words(sentence)\n",
    "\n",
    "maxl = \"\"\n",
    "maxw = \"\"\n",
    "maxcl = 0\n",
    "maxcw = 0\n",
    "\n",
    "for letter, count in letterCount.items():\n",
    "    if maxcl < count:\n",
    "        maxcl = count\n",
    "        maxl = letter\n",
    "        \n",
    "print(maxl, \" = \", maxcl)\n",
    "\n",
    "for word, count in wordsCount.items():\n",
    "    if maxcw < count:\n",
    "        maxcw = count\n",
    "        maxw = word\n",
    "        \n",
    "print(maxcw, maxw)\n"
   ]
  },
  {
   "cell_type": "code",
   "execution_count": 26,
   "metadata": {},
   "outputs": [
    {
     "ename": "IndentationError",
     "evalue": "unindent does not match any outer indentation level (<tokenize>, line 7)",
     "output_type": "error",
     "traceback": [
      "\u001b[1;36m  File \u001b[1;32m\"<tokenize>\"\u001b[1;36m, line \u001b[1;32m7\u001b[0m\n\u001b[1;33m    words = re.findall(r'\\b\\w+\\b', lower_string)\u001b[0m\n\u001b[1;37m    ^\u001b[0m\n\u001b[1;31mIndentationError\u001b[0m\u001b[1;31m:\u001b[0m unindent does not match any outer indentation level\n"
     ]
    }
   ],
   "source": []
  },
  {
   "cell_type": "code",
   "execution_count": null,
   "metadata": {},
   "outputs": [],
   "source": []
  }
 ],
 "metadata": {
  "kernelspec": {
   "display_name": "Python 3",
   "language": "python",
   "name": "python3"
  },
  "language_info": {
   "codemirror_mode": {
    "name": "ipython",
    "version": 3
   },
   "file_extension": ".py",
   "mimetype": "text/x-python",
   "name": "python",
   "nbconvert_exporter": "python",
   "pygments_lexer": "ipython3",
   "version": "3.7.3"
  }
 },
 "nbformat": 4,
 "nbformat_minor": 2
}
